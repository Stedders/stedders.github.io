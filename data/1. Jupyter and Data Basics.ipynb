{
 "cells": [
  {
   "cell_type": "markdown",
   "source": [
    "# Part 1: Using Jupyter and more advanced Data Structures\n",
    "\n",
    "**Time:** 30 minutes\n",
    "\n",
    "**Experience:** Beginner\n",
    "\n",
    "**Skills:** Data Science\n",
    "\n",
    "In this workbook you will learn how to use Jupyter and start using a more advanced data structure called a DataFrame.\n"
   ],
   "metadata": {
    "collapsed": false
   }
  },
  {
   "cell_type": "markdown",
   "source": [
    "# How to use Jupyter\n",
    "\n",
    "Jupyter is platform for you to write Python in a web browser and view the outputs in the same window.\n",
    "\n",
    "It is incredibly useful for manipulating data and testing transformations on them.\n",
    "\n",
    "## Cells and Output\n",
    "Code in Jupyter is written in \"cells\", you can run the cell pressing `Shift + Enter` the output is then displayed below the cell.\n",
    "\n",
    "We can write a basic addition and print the result."
   ],
   "metadata": {
    "collapsed": false
   }
  },
  {
   "cell_type": "code",
   "execution_count": 3,
   "outputs": [
    {
     "name": "stdout",
     "output_type": "stream",
     "text": [
      "3\n"
     ]
    }
   ],
   "source": [
    "x = 1 + 2\n",
    "print(x)"
   ],
   "metadata": {
    "collapsed": false
   }
  },
  {
   "cell_type": "markdown",
   "source": [
    "Variables/values remain available between \"cells\", and you don't need to use print to show a single output.\n",
    "\n",
    "In this case we can write `x` and it will print the previous value."
   ],
   "metadata": {
    "collapsed": false
   }
  },
  {
   "cell_type": "code",
   "execution_count": 4,
   "outputs": [
    {
     "data": {
      "text/plain": "3"
     },
     "execution_count": 4,
     "metadata": {},
     "output_type": "execute_result"
    }
   ],
   "source": [
    "x"
   ],
   "metadata": {
    "collapsed": false
   }
  },
  {
   "cell_type": "markdown",
   "source": [
    "### Exercises\n",
    "* Write more code and printing outputs\n",
    "  * Different calculations using `x` or new variables?\n",
    "  * Words and characters?\n",
    "* Re-use variables across cells"
   ],
   "metadata": {
    "collapsed": false
   }
  },
  {
   "cell_type": "markdown",
   "source": [
    "## Basic Data Structures\n",
    "\n",
    "You should already be familiar with the basic data structures in python `lists` and `dictionary`.\n",
    "\n",
    "### Lists\n",
    "* Contain a sequence of items\n",
    "* Created using square braces `[]`\n",
    "* Referenced using a number, known as the `index`\n",
    "  * Indexes must be a whole number like 0, 5 or 42, it can't be a fraction like 0.5\n",
    "  * A list `index` will start at 0 and go as far as the length of the list minus 1\n",
    "* A lot of useful built-in functions (`len`, `sum`, `min`, etc...) can make processing the data easy\n"
   ],
   "metadata": {
    "collapsed": false
   }
  },
  {
   "cell_type": "code",
   "execution_count": 16,
   "outputs": [
    {
     "name": "stdout",
     "output_type": "stream",
     "text": [
      "The first score in the list is 75\n",
      "10 students took the test\n",
      "The best score was 90\n",
      "The worst score was 45\n",
      "The average score was 68.7\n"
     ]
    }
   ],
   "source": [
    "# List of maths test scores\n",
    "test_scores = [75, 67, 73, 87, 49, 57, 81, 90, 63, 45]\n",
    "\n",
    "# Print a score\n",
    "print(\"The first score in the list is\", test_scores[0])\n",
    "\n",
    "# Print some information about the scores\n",
    "print(len(test_scores), \"students took the test\")\n",
    "print(\"The best score was\", max(test_scores))\n",
    "print(\"The worst score was\", min(test_scores))\n",
    "\n",
    "# Print the average score by adding the scores and dividing by the number of students\n",
    "print(\"The average score was\", sum(test_scores) / len(test_scores))"
   ],
   "metadata": {
    "collapsed": false
   }
  },
  {
   "cell_type": "markdown",
   "source": [
    "### Exercises\n",
    "* How would you get the last score?\n",
    "  * *Hint:* there are two ways to do it\n",
    "* Loop through the list and print each score.\n"
   ],
   "metadata": {
    "collapsed": false
   }
  },
  {
   "cell_type": "markdown",
   "source": [
    "This is useful, but it is just the scores, you don't know who had the best score and who needs more help.\n",
    "\n",
    "You could use two lists, one with the scores and one with the students but this can make the code more complex.\n",
    "\n",
    "You can combine the student and score in a dictionary.\n",
    "\n",
    "### Dictionary\n",
    "* Contains unstructured data\n",
    "* Created using squiggly braces `{}`\n",
    "* Referenced with a value, known as a `key` which will give you a `value`\n",
    "* Keys can be almost any value\n",
    "  * There are rules to what can be a `key` but as long as you use a `string` or `number` you will be fine"
   ],
   "metadata": {
    "collapsed": false
   }
  },
  {
   "cell_type": "code",
   "execution_count": 14,
   "outputs": [
    {
     "name": "stdout",
     "output_type": "stream",
     "text": [
      "10 students took the test\n",
      "The best score was 90\n",
      "The worst score was 45\n",
      "The average score was 68.7\n",
      "Josh had the BEST score\n",
      "Nicole had the WORST score\n"
     ]
    }
   ],
   "source": [
    "student_scores = {\n",
    "    \"Richard\": 75,\n",
    "    \"Amy\": 67,\n",
    "    \"Nick\": 73,\n",
    "    \"Tony\": 87,\n",
    "    \"Lindsay\": 49,\n",
    "    \"Jason\": 57,\n",
    "    \"Sam\": 81,\n",
    "    \"Josh\": 90,\n",
    "    \"Zoe\": 63,\n",
    "    \"Nicole\": 45,\n",
    "}\n",
    "\n",
    "# len still works on dictionaries\n",
    "print(len(student_scores), \"students took the test\")\n",
    "\n",
    "# You need to call the values() directly to get the min, max and average\n",
    "print(\"The best score was\", max(student_scores.values()))\n",
    "print(\"The worst score was\", min(student_scores.values()))\n",
    "print(\"The average score was\", sum(student_scores.values()) / len(student_scores))\n",
    "\n",
    "# You can loop over the student to find out who had the best score\n",
    "# A loop will get the student names or `keys`\n",
    "for student in student_scores:\n",
    "\n",
    "    # You can use the student name to get their score\n",
    "    if student_scores[student] == max(student_scores.values()):\n",
    "        print(student, \"had the BEST score\")\n",
    "\n",
    "    if student_scores[student] == min(student_scores.values()):\n",
    "        print(student, \"had the WORST score\")"
   ],
   "metadata": {
    "collapsed": false
   }
  },
  {
   "cell_type": "markdown",
   "source": [
    "### Exercises\n",
    "* Can you loop through the students, print the student name and score?"
   ],
   "metadata": {
    "collapsed": false
   }
  },
  {
   "cell_type": "markdown",
   "source": [
    "### More Fields/Data Modelling\n",
    "\n",
    "The above is fine for one value but what if you wanted to track the test results over a period of time?\n",
    "\n",
    "This is where you would need to start thinking about modelling your data.\n",
    "\n",
    "You can do this by combining the basic data structures, for example a student could end up looking like...\n",
    "\n",
    "```python\n",
    "maths_students = [\n",
    "    {\"name\": \"Richard\", \"2022\": 75, \"2021\": 72, \"2020\": 69},\n",
    "    ...\n",
    "]\n",
    "```\n",
    "\n",
    "As your datastructure becomes more complex the processing is more difficult - this is where DataFrames help.\n",
    "\n",
    "## DataFrames\n",
    "\n",
    "A DataFrame stores data in a table (also known as tabulated), similar to an Excel spreadsheet.\n",
    "\n",
    "DataFrame comes from the `pandas` library, you can read data from other datastructures or from files."
   ],
   "metadata": {
    "collapsed": false
   }
  },
  {
   "cell_type": "code",
   "execution_count": 21,
   "outputs": [
    {
     "data": {
      "text/plain": "     a    b    c\n0   10   20   30\n1  100  200  300\n2    1    2    3\n3   15   25   35\n4   11   12   13",
      "text/html": "<div>\n<style scoped>\n    .dataframe tbody tr th:only-of-type {\n        vertical-align: middle;\n    }\n\n    .dataframe tbody tr th {\n        vertical-align: top;\n    }\n\n    .dataframe thead th {\n        text-align: right;\n    }\n</style>\n<table border=\"1\" class=\"dataframe\">\n  <thead>\n    <tr style=\"text-align: right;\">\n      <th></th>\n      <th>a</th>\n      <th>b</th>\n      <th>c</th>\n    </tr>\n  </thead>\n  <tbody>\n    <tr>\n      <th>0</th>\n      <td>10</td>\n      <td>20</td>\n      <td>30</td>\n    </tr>\n    <tr>\n      <th>1</th>\n      <td>100</td>\n      <td>200</td>\n      <td>300</td>\n    </tr>\n    <tr>\n      <th>2</th>\n      <td>1</td>\n      <td>2</td>\n      <td>3</td>\n    </tr>\n    <tr>\n      <th>3</th>\n      <td>15</td>\n      <td>25</td>\n      <td>35</td>\n    </tr>\n    <tr>\n      <th>4</th>\n      <td>11</td>\n      <td>12</td>\n      <td>13</td>\n    </tr>\n  </tbody>\n</table>\n</div>"
     },
     "execution_count": 21,
     "metadata": {},
     "output_type": "execute_result"
    }
   ],
   "source": [
    "import pandas as pd  # This is the common way of importing pandas\n",
    "\n",
    "# Create a DataFrame with 5 rows and 3 columns\n",
    "data_frame = pd.DataFrame(\n",
    "    [\n",
    "        {\"a\": 10, \"b\": 20, \"c\": 30},  # row 0\n",
    "        {\"a\": 100, \"b\": 200, \"c\": 300},  # row 1\n",
    "        {\"a\": 1, \"b\": 2, \"c\": 3},  # row 2\n",
    "        {\"a\": 15, \"b\": 25, \"c\": 35},  # row 3\n",
    "        {\"a\": 11, \"b\": 12, \"c\": 13},  # row 4\n",
    "    ]\n",
    ")\n",
    "# Jupyter understands the DataFrame and prints it as a table\n",
    "# The first column is the `index`, this is followed by the data columns\n",
    "data_frame"
   ],
   "metadata": {
    "collapsed": false
   }
  },
  {
   "cell_type": "code",
   "execution_count": 52,
   "outputs": [
    {
     "data": {
      "text/plain": "a    10\nb    20\nc    30\nName: 0, dtype: int64"
     },
     "execution_count": 52,
     "metadata": {},
     "output_type": "execute_result"
    }
   ],
   "source": [
    "# You can select rows from a DataFrame using the `index` in `loc` (short for location)\n",
    "data_frame.loc[0]\n",
    "# Notice how the data has been \"pivoted\" with the columns becoming rows"
   ],
   "metadata": {
    "collapsed": false
   }
  },
  {
   "cell_type": "code",
   "execution_count": 53,
   "outputs": [
    {
     "data": {
      "text/plain": "0     10\n1    100\n2      1\n3     15\n4     11\nName: a, dtype: int64"
     },
     "execution_count": 53,
     "metadata": {},
     "output_type": "execute_result"
    }
   ],
   "source": [
    "# You can select columns by using square braces\n",
    "data_frame['a']"
   ],
   "metadata": {
    "collapsed": false
   }
  },
  {
   "cell_type": "code",
   "execution_count": 54,
   "outputs": [
    {
     "data": {
      "text/plain": "10"
     },
     "execution_count": 54,
     "metadata": {},
     "output_type": "execute_result"
    }
   ],
   "source": [
    "# You can select a specific entry using `loc` with the row and column\n",
    "data_frame.loc[0, \"a\"]"
   ],
   "metadata": {
    "collapsed": false
   }
  },
  {
   "cell_type": "markdown",
   "source": [
    "Another benefit is that you can perform operations on the entire DataFrame quickly and easily."
   ],
   "metadata": {
    "collapsed": false
   }
  },
  {
   "cell_type": "code",
   "execution_count": 55,
   "outputs": [
    {
     "data": {
      "text/plain": "a    137\nb    259\nc    381\ndtype: int64"
     },
     "execution_count": 55,
     "metadata": {},
     "output_type": "execute_result"
    }
   ],
   "source": [
    "# Add all values in each column\n",
    "data_frame.sum()"
   ],
   "metadata": {
    "collapsed": false
   }
  },
  {
   "cell_type": "code",
   "execution_count": 56,
   "outputs": [
    {
     "data": {
      "text/plain": "a    27.4\nb    51.8\nc    76.2\ndtype: float64"
     },
     "execution_count": 56,
     "metadata": {},
     "output_type": "execute_result"
    }
   ],
   "source": [
    "# Easily calculate different averages of each column\n",
    "data_frame.mean()"
   ],
   "metadata": {
    "collapsed": false
   }
  },
  {
   "cell_type": "code",
   "execution_count": 57,
   "outputs": [
    {
     "data": {
      "text/plain": "a    11.0\nb    20.0\nc    30.0\ndtype: float64"
     },
     "execution_count": 57,
     "metadata": {},
     "output_type": "execute_result"
    }
   ],
   "source": [
    "data_frame.median()"
   ],
   "metadata": {
    "collapsed": false
   }
  },
  {
   "cell_type": "markdown",
   "source": [
    "### Students DataFrame\n",
    "\n",
    "Returning to our earlier example, we can create a DataFrame for students and query it.\n"
   ],
   "metadata": {
    "collapsed": false
   }
  },
  {
   "cell_type": "code",
   "execution_count": 71,
   "outputs": [
    {
     "data": {
      "text/plain": "      name  2022  2021  2020\n0  Richard    75    72    69\n1      Amy    67    71    83\n2     Nick    73    68    65\n3     Tony    87    91    69\n4  Lindsay    49    56    63\n5    Jason    57    55    43\n6      Sam    81    72    68\n7     Josh    90    85    81\n8      Zoe    63    70    75\n9   Nicole    45    53    57",
      "text/html": "<div>\n<style scoped>\n    .dataframe tbody tr th:only-of-type {\n        vertical-align: middle;\n    }\n\n    .dataframe tbody tr th {\n        vertical-align: top;\n    }\n\n    .dataframe thead th {\n        text-align: right;\n    }\n</style>\n<table border=\"1\" class=\"dataframe\">\n  <thead>\n    <tr style=\"text-align: right;\">\n      <th></th>\n      <th>name</th>\n      <th>2022</th>\n      <th>2021</th>\n      <th>2020</th>\n    </tr>\n  </thead>\n  <tbody>\n    <tr>\n      <th>0</th>\n      <td>Richard</td>\n      <td>75</td>\n      <td>72</td>\n      <td>69</td>\n    </tr>\n    <tr>\n      <th>1</th>\n      <td>Amy</td>\n      <td>67</td>\n      <td>71</td>\n      <td>83</td>\n    </tr>\n    <tr>\n      <th>2</th>\n      <td>Nick</td>\n      <td>73</td>\n      <td>68</td>\n      <td>65</td>\n    </tr>\n    <tr>\n      <th>3</th>\n      <td>Tony</td>\n      <td>87</td>\n      <td>91</td>\n      <td>69</td>\n    </tr>\n    <tr>\n      <th>4</th>\n      <td>Lindsay</td>\n      <td>49</td>\n      <td>56</td>\n      <td>63</td>\n    </tr>\n    <tr>\n      <th>5</th>\n      <td>Jason</td>\n      <td>57</td>\n      <td>55</td>\n      <td>43</td>\n    </tr>\n    <tr>\n      <th>6</th>\n      <td>Sam</td>\n      <td>81</td>\n      <td>72</td>\n      <td>68</td>\n    </tr>\n    <tr>\n      <th>7</th>\n      <td>Josh</td>\n      <td>90</td>\n      <td>85</td>\n      <td>81</td>\n    </tr>\n    <tr>\n      <th>8</th>\n      <td>Zoe</td>\n      <td>63</td>\n      <td>70</td>\n      <td>75</td>\n    </tr>\n    <tr>\n      <th>9</th>\n      <td>Nicole</td>\n      <td>45</td>\n      <td>53</td>\n      <td>57</td>\n    </tr>\n  </tbody>\n</table>\n</div>"
     },
     "execution_count": 71,
     "metadata": {},
     "output_type": "execute_result"
    }
   ],
   "source": [
    "students_list = [\n",
    "    {\"name\": \"Richard\", 2022: 75, 2021: 72, 2020: 69},\n",
    "    {\"name\": \"Amy\", 2022: 67, 2021: 71, 2020: 83},\n",
    "    {\"name\": \"Nick\", 2022: 73, 2021: 68, 2020: 65},\n",
    "    {\"name\": \"Tony\", 2022: 87, 2021: 91, 2020: 69},\n",
    "    {\"name\": \"Lindsay\", 2022: 49, 2021: 56, 2020: 63},\n",
    "    {\"name\": \"Jason\", 2022: 57, 2021: 55, 2020: 43},\n",
    "    {\"name\": \"Sam\", 2022: 81, 2021: 72, 2020: 68},\n",
    "    {\"name\": \"Josh\", 2022: 90, 2021: 85, 2020: 81},\n",
    "    {\"name\": \"Zoe\", 2022: 63, 2021: 70, 2020: 75},\n",
    "    {\"name\": \"Nicole\", 2022: 45, 2021: 53, 2020: 57},\n",
    "]\n",
    "students_data_frame = pd.DataFrame(students_list)\n",
    "students_data_frame"
   ],
   "metadata": {
    "collapsed": false
   }
  },
  {
   "cell_type": "code",
   "execution_count": 60,
   "outputs": [
    {
     "data": {
      "text/plain": "68.7"
     },
     "execution_count": 60,
     "metadata": {},
     "output_type": "execute_result"
    }
   ],
   "source": [
    "# Again we can get the average for 2022\n",
    "students_data_frame[2022].mean()"
   ],
   "metadata": {
    "collapsed": false
   }
  },
  {
   "cell_type": "code",
   "execution_count": 61,
   "outputs": [
    {
     "data": {
      "text/plain": "   2020  2021  2022\n0    69    72    75\n1    83    71    67\n2    65    68    73\n3    69    91    87\n4    63    56    49\n5    43    55    57\n6    68    72    81\n7    81    85    90\n8    75    70    63\n9    57    53    45",
      "text/html": "<div>\n<style scoped>\n    .dataframe tbody tr th:only-of-type {\n        vertical-align: middle;\n    }\n\n    .dataframe tbody tr th {\n        vertical-align: top;\n    }\n\n    .dataframe thead th {\n        text-align: right;\n    }\n</style>\n<table border=\"1\" class=\"dataframe\">\n  <thead>\n    <tr style=\"text-align: right;\">\n      <th></th>\n      <th>2020</th>\n      <th>2021</th>\n      <th>2022</th>\n    </tr>\n  </thead>\n  <tbody>\n    <tr>\n      <th>0</th>\n      <td>69</td>\n      <td>72</td>\n      <td>75</td>\n    </tr>\n    <tr>\n      <th>1</th>\n      <td>83</td>\n      <td>71</td>\n      <td>67</td>\n    </tr>\n    <tr>\n      <th>2</th>\n      <td>65</td>\n      <td>68</td>\n      <td>73</td>\n    </tr>\n    <tr>\n      <th>3</th>\n      <td>69</td>\n      <td>91</td>\n      <td>87</td>\n    </tr>\n    <tr>\n      <th>4</th>\n      <td>63</td>\n      <td>56</td>\n      <td>49</td>\n    </tr>\n    <tr>\n      <th>5</th>\n      <td>43</td>\n      <td>55</td>\n      <td>57</td>\n    </tr>\n    <tr>\n      <th>6</th>\n      <td>68</td>\n      <td>72</td>\n      <td>81</td>\n    </tr>\n    <tr>\n      <th>7</th>\n      <td>81</td>\n      <td>85</td>\n      <td>90</td>\n    </tr>\n    <tr>\n      <th>8</th>\n      <td>75</td>\n      <td>70</td>\n      <td>63</td>\n    </tr>\n    <tr>\n      <th>9</th>\n      <td>57</td>\n      <td>53</td>\n      <td>45</td>\n    </tr>\n  </tbody>\n</table>\n</div>"
     },
     "execution_count": 61,
     "metadata": {},
     "output_type": "execute_result"
    }
   ],
   "source": [
    "# To get multiple columns you will need to group the columns together\n",
    "students_data_frame[[2020, 2021, 2022]]"
   ],
   "metadata": {
    "collapsed": false
   }
  },
  {
   "cell_type": "code",
   "execution_count": 62,
   "outputs": [
    {
     "data": {
      "text/plain": "2020    67.3\n2021    69.3\n2022    68.7\ndtype: float64"
     },
     "execution_count": 62,
     "metadata": {},
     "output_type": "execute_result"
    }
   ],
   "source": [
    "students_data_frame[[2020, 2021, 2022]].mean()"
   ],
   "metadata": {
    "collapsed": false
   }
  },
  {
   "cell_type": "code",
   "execution_count": 63,
   "outputs": [
    {
     "data": {
      "text/plain": "   name  2022  2021  2020\n3  Tony    87    91    69",
      "text/html": "<div>\n<style scoped>\n    .dataframe tbody tr th:only-of-type {\n        vertical-align: middle;\n    }\n\n    .dataframe tbody tr th {\n        vertical-align: top;\n    }\n\n    .dataframe thead th {\n        text-align: right;\n    }\n</style>\n<table border=\"1\" class=\"dataframe\">\n  <thead>\n    <tr style=\"text-align: right;\">\n      <th></th>\n      <th>name</th>\n      <th>2022</th>\n      <th>2021</th>\n      <th>2020</th>\n    </tr>\n  </thead>\n  <tbody>\n    <tr>\n      <th>3</th>\n      <td>Tony</td>\n      <td>87</td>\n      <td>91</td>\n      <td>69</td>\n    </tr>\n  </tbody>\n</table>\n</div>"
     },
     "execution_count": 63,
     "metadata": {},
     "output_type": "execute_result"
    }
   ],
   "source": [
    "# To search for specific rows you need to use the following format\n",
    "students_data_frame[students_data_frame[\"name\"] == \"Tony\"]"
   ],
   "metadata": {
    "collapsed": false
   }
  },
  {
   "cell_type": "code",
   "execution_count": 75,
   "outputs": [
    {
     "data": {
      "text/plain": "3    82.333333\ndtype: float64"
     },
     "execution_count": 75,
     "metadata": {},
     "output_type": "execute_result"
    }
   ],
   "source": [
    "# You can combine these commands together to get the mean score over multiple years\n",
    "students_data_frame[students_data_frame[\"name\"] == \"Tony\"][\n",
    "    [2020, 2021, 2022]\n",
    "].mean(axis=1)  # axis=1 tells pandas to calculate the mean across the row instead of down columns"
   ],
   "metadata": {
    "collapsed": false
   }
  },
  {
   "cell_type": "markdown",
   "source": [
    "### Exercises\n",
    "* Try getting different students and manipulating data.\n",
    "* How could you get the length of the DataFrame?\n",
    "  * *Hint:* There maybe a method that can help or try `len`\n",
    "\n",
    "## Summary\n",
    "\n",
    "This workbook has taken you through some data structures and introduced pandas DataFrame.\n",
    "\n",
    "Once you are comfortable move onto the next workbook [2. Stock Price Graph](2.%20Stock%20Price%20Graph.md) to learn how to get stock prices and show graphs."
   ],
   "metadata": {
    "collapsed": false
   }
  }
 ],
 "metadata": {
  "kernelspec": {
   "display_name": "Python 3",
   "language": "python",
   "name": "python3"
  },
  "language_info": {
   "codemirror_mode": {
    "name": "ipython",
    "version": 2
   },
   "file_extension": ".py",
   "mimetype": "text/x-python",
   "name": "python",
   "nbconvert_exporter": "python",
   "pygments_lexer": "ipython2",
   "version": "2.7.6"
  }
 },
 "nbformat": 4,
 "nbformat_minor": 0
}
