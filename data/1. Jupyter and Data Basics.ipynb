{
 "cells": [
  {
   "cell_type": "markdown",
   "source": [
    "# Part 1: Using Jupyter and more advanced Data Structures\n",
    "\n",
    "**Time:** 30 minutes\n",
    "\n",
    "**Experience:** Beginner\n",
    "\n",
    "**Skills:** Data Science\n",
    "\n",
    "In this workbook you will learn how to use Jupyter and start using a more advanced data structure called a DataFrame.\n"
   ],
   "metadata": {
    "collapsed": false
   }
  },
  {
   "cell_type": "markdown",
   "source": [
    "# How to use Jupyter\n",
    "\n",
    "Jupyter is platform for you to write Python in a web browser and view the outputs in the same window.\n",
    "\n",
    "It is incredibly useful for manipulating data and testing transformations on them.\n",
    "\n",
    "## Cells and Output\n",
    "Code in Jupyter is written in \"cells\", you can run the cell pressing `Shift + Enter` the output is then displayed below the cell.\n",
    "\n",
    "We can write a basic addition and print the result."
   ],
   "metadata": {
    "collapsed": false
   }
  },
  {
   "cell_type": "code",
   "execution_count": 3,
   "outputs": [
    {
     "name": "stdout",
     "output_type": "stream",
     "text": [
      "3\n"
     ]
    }
   ],
   "source": [
    "x = 1 + 2\n",
    "print(x)"
   ],
   "metadata": {
    "collapsed": false
   }
  },
  {
   "cell_type": "markdown",
   "source": [
    "Variables/values remain available between \"cells\", and you don't need to use print to show a single output.\n",
    "\n",
    "In this case we can write `x` and it will print the previous value."
   ],
   "metadata": {
    "collapsed": false
   }
  },
  {
   "cell_type": "code",
   "execution_count": 4,
   "outputs": [
    {
     "data": {
      "text/plain": "3"
     },
     "execution_count": 4,
     "metadata": {},
     "output_type": "execute_result"
    }
   ],
   "source": [
    "x"
   ],
   "metadata": {
    "collapsed": false
   }
  },
  {
   "cell_type": "markdown",
   "source": [
    "### Exercises\n",
    "* Try writing more code and printing outputs\n",
    "  * Different calculations using `x` or new variables?\n",
    "  * Words and characters?\n",
    "* Re-use variables across different cells"
   ],
   "metadata": {
    "collapsed": false
   }
  },
  {
   "cell_type": "markdown",
   "source": [
    "## Basic Data Structures\n",
    "\n",
    "You should already be familiar with the basic data structures in python `lists` and `dictionary`.\n",
    "\n",
    "### Lists\n",
    "* Contain a sequence of items\n",
    "* Created using square braces `[]`\n",
    "* Referenced using a number, known as the `index`\n",
    "  * Indexes must be a whole number like 0, 5 or 42, it can't be a fraction like 0.5\n",
    "  * A list `index` will start at 0 and go as far as the length of the list minus 1\n",
    "* A lot of useful built-in functions (`len`, `sum`, `min`, etc...) can make processing the data easy\n"
   ],
   "metadata": {
    "collapsed": false
   }
  },
  {
   "cell_type": "code",
   "execution_count": 8,
   "outputs": [
    {
     "name": "stdout",
     "output_type": "stream",
     "text": [
      "10 students took the test\n",
      "The best score was 90\n",
      "The worst score was 45\n",
      "The average score was 68.7\n"
     ]
    }
   ],
   "source": [
    "# List of maths test scores\n",
    "test_scores = [75, 67, 73, 87, 49, 57, 81, 90, 63, 45]\n",
    "\n",
    "# Print some information about the scores\n",
    "print(len(test_scores), \"students took the test\")\n",
    "print(\"The best score was\", max(test_scores))\n",
    "print(\"The worst score was\", min(test_scores))\n",
    "\n",
    "# Print the average score by adding the scores and dividing by the number of students\n",
    "print(\"The average score was\", sum(test_scores) / len(test_scores))"
   ],
   "metadata": {
    "collapsed": false
   }
  },
  {
   "cell_type": "markdown",
   "source": [
    "This is useful, but it is just the scores, you don't know who had the best score and who needs more help.\n",
    "\n",
    "You could use two lists, one with the scores and one with the students but this can make the code more complex.\n",
    "\n",
    "Ideally you would want a data structure that combines the student and score - such as a dictionary.\n",
    "\n",
    "### Dictionary\n",
    "* Contain unstructured data\n",
    "* Created using squiggly braces `{}`\n",
    "* Referenced with a value, known as a `key` which will give you a `value`\n",
    "* Keys can be almost any value\n",
    "  * There are rules to what can be a key but as long as you use a `string` or `number` you will be fine"
   ],
   "metadata": {
    "collapsed": false
   }
  },
  {
   "cell_type": "code",
   "execution_count": 14,
   "outputs": [
    {
     "name": "stdout",
     "output_type": "stream",
     "text": [
      "10 students took the test\n",
      "The best score was 90\n",
      "The worst score was 45\n",
      "The average score was 68.7\n",
      "Josh had the BEST score\n",
      "Nicole had the WORST score\n"
     ]
    }
   ],
   "source": [
    "student_scores = {\n",
    "    \"Richard\": 75,\n",
    "    \"Amy\": 67,\n",
    "    \"Nick\": 73,\n",
    "    \"Tony\": 87,\n",
    "    \"Lindsay\": 49,\n",
    "    \"Jason\": 57,\n",
    "    \"Sam\": 81,\n",
    "    \"Josh\": 90,\n",
    "    \"Zoe\": 63,\n",
    "    \"Nicole\": 45,\n",
    "}\n",
    "\n",
    "# len still works on dictionaries\n",
    "print(len(student_scores), \"students took the test\")\n",
    "\n",
    "# You need to call the values() directly to get the min, max and average\n",
    "print(\"The best score was\", max(student_scores.values()))\n",
    "print(\"The worst score was\", min(student_scores.values()))\n",
    "print(\"The average score was\", sum(student_scores.values()) / len(student_scores))\n",
    "\n",
    "# You can loop over the student to find out who had the best score\n",
    "# A loop will get the student names or `keys`\n",
    "for student in student_scores:\n",
    "\n",
    "    # You can use the student name to get their score\n",
    "    if student_scores[student] == max(student_scores.values()):\n",
    "        print(student, \"had the BEST score\")\n",
    "\n",
    "    if student_scores[student] == min(student_scores.values()):\n",
    "        print(student, \"had the WORST score\")"
   ],
   "metadata": {
    "collapsed": false
   }
  },
  {
   "cell_type": "code",
   "execution_count": null,
   "outputs": [],
   "source": [
    "\""
   ],
   "metadata": {
    "collapsed": false
   }
  }
 ],
 "metadata": {
  "kernelspec": {
   "display_name": "Python 3",
   "language": "python",
   "name": "python3"
  },
  "language_info": {
   "codemirror_mode": {
    "name": "ipython",
    "version": 2
   },
   "file_extension": ".py",
   "mimetype": "text/x-python",
   "name": "python",
   "nbconvert_exporter": "python",
   "pygments_lexer": "ipython2",
   "version": "2.7.6"
  }
 },
 "nbformat": 4,
 "nbformat_minor": 0
}
