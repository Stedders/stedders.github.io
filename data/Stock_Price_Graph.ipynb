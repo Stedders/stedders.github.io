{
 "cells": [
  {
   "cell_type": "markdown",
   "id": "fa3160c7-92e2-4d5b-a45d-734adcef01e7",
   "metadata": {},
   "source": [
    "# Stock Price\n",
    "\n",
    "## Part1: Downloading and show a graph\n",
    "\n",
    "**Time:** 30 minutes\n",
    "\n",
    "**Experience:** Beginner\n",
    "\n",
    "**Skills:** Data Science\n",
    "\n",
    "In this workbook you will install a package to download stock price data and draw a graph of the price over time."
   ]
  },
  {
   "cell_type": "markdown",
   "id": "60e615ea-2d6d-4c5a-a278-fb4449a33d29",
   "metadata": {},
   "source": [
    "## Get Stock Prices\n",
    "Import the two packages we require and reference them using the `as` keyword - this saves on typing."
   ]
  },
  {
   "cell_type": "code",
   "execution_count": 6,
   "id": "db02b939-16e4-4cc2-9f9d-275b9af67440",
   "metadata": {},
   "outputs": [],
   "source": [
    "import yfinance as yf\n",
    "import matplotlib.pyplot as plt"
   ]
  },
  {
   "cell_type": "markdown",
   "id": "a0a8ada2-b791-4466-8d93-0c5523966245",
   "metadata": {},
   "source": [
    "yfinance is a package that connects to https://finance.yahoo.com and downloads financial data.\n",
    "\n",
    "It is free to use, but if you use it a lot they may block you.\n",
    "\n",
    "We create a ticker \"object\" for Microsoft (MSFT is its stock code)"
   ]
  },
  {
   "cell_type": "code",
   "execution_count": 7,
   "id": "0bb2c544-c67d-413a-80a2-67ab97122d37",
   "metadata": {},
   "outputs": [],
   "source": [
    "msft = yf.Ticker(\"MSFT\")"
   ]
  },
  {
   "cell_type": "markdown",
   "id": "cc274876-cecf-435a-8586-ea8b0e663928",
   "metadata": {},
   "source": [
    "Using this object we request the maximum amount of data that Yahoo has and save it in the msft_data variable.\n",
    "\n",
    "If we use this variable in Jupyter it will print the data out. Other python systems may not do this."
   ]
  },
  {
   "cell_type": "code",
   "execution_count": 10,
   "id": "ea094ba9-9f6c-408c-ae70-6554dfa08551",
   "metadata": {},
   "outputs": [
    {
     "data": {
      "text/html": [
       "<div>\n",
       "<style scoped>\n",
       "    .dataframe tbody tr th:only-of-type {\n",
       "        vertical-align: middle;\n",
       "    }\n",
       "\n",
       "    .dataframe tbody tr th {\n",
       "        vertical-align: top;\n",
       "    }\n",
       "\n",
       "    .dataframe thead th {\n",
       "        text-align: right;\n",
       "    }\n",
       "</style>\n",
       "<table border=\"1\" class=\"dataframe\">\n",
       "  <thead>\n",
       "    <tr style=\"text-align: right;\">\n",
       "      <th></th>\n",
       "      <th>Open</th>\n",
       "      <th>High</th>\n",
       "      <th>Low</th>\n",
       "      <th>Close</th>\n",
       "      <th>Volume</th>\n",
       "      <th>Dividends</th>\n",
       "      <th>Stock Splits</th>\n",
       "    </tr>\n",
       "    <tr>\n",
       "      <th>Date</th>\n",
       "      <th></th>\n",
       "      <th></th>\n",
       "      <th></th>\n",
       "      <th></th>\n",
       "      <th></th>\n",
       "      <th></th>\n",
       "      <th></th>\n",
       "    </tr>\n",
       "  </thead>\n",
       "  <tbody>\n",
       "    <tr>\n",
       "      <th>1986-03-13 00:00:00-05:00</th>\n",
       "      <td>0.055380</td>\n",
       "      <td>0.063524</td>\n",
       "      <td>0.055380</td>\n",
       "      <td>0.060809</td>\n",
       "      <td>1031788800</td>\n",
       "      <td>0.0</td>\n",
       "      <td>0.0</td>\n",
       "    </tr>\n",
       "    <tr>\n",
       "      <th>1986-03-14 00:00:00-05:00</th>\n",
       "      <td>0.060809</td>\n",
       "      <td>0.064067</td>\n",
       "      <td>0.060809</td>\n",
       "      <td>0.062980</td>\n",
       "      <td>308160000</td>\n",
       "      <td>0.0</td>\n",
       "      <td>0.0</td>\n",
       "    </tr>\n",
       "    <tr>\n",
       "      <th>1986-03-17 00:00:00-05:00</th>\n",
       "      <td>0.062980</td>\n",
       "      <td>0.064609</td>\n",
       "      <td>0.062980</td>\n",
       "      <td>0.064067</td>\n",
       "      <td>133171200</td>\n",
       "      <td>0.0</td>\n",
       "      <td>0.0</td>\n",
       "    </tr>\n",
       "    <tr>\n",
       "      <th>1986-03-18 00:00:00-05:00</th>\n",
       "      <td>0.064067</td>\n",
       "      <td>0.064610</td>\n",
       "      <td>0.061894</td>\n",
       "      <td>0.062437</td>\n",
       "      <td>67766400</td>\n",
       "      <td>0.0</td>\n",
       "      <td>0.0</td>\n",
       "    </tr>\n",
       "    <tr>\n",
       "      <th>1986-03-19 00:00:00-05:00</th>\n",
       "      <td>0.062437</td>\n",
       "      <td>0.062980</td>\n",
       "      <td>0.060809</td>\n",
       "      <td>0.061351</td>\n",
       "      <td>47894400</td>\n",
       "      <td>0.0</td>\n",
       "      <td>0.0</td>\n",
       "    </tr>\n",
       "    <tr>\n",
       "      <th>...</th>\n",
       "      <td>...</td>\n",
       "      <td>...</td>\n",
       "      <td>...</td>\n",
       "      <td>...</td>\n",
       "      <td>...</td>\n",
       "      <td>...</td>\n",
       "      <td>...</td>\n",
       "    </tr>\n",
       "    <tr>\n",
       "      <th>2023-01-13 00:00:00-05:00</th>\n",
       "      <td>237.000000</td>\n",
       "      <td>239.369995</td>\n",
       "      <td>234.919998</td>\n",
       "      <td>239.229996</td>\n",
       "      <td>21317700</td>\n",
       "      <td>0.0</td>\n",
       "      <td>0.0</td>\n",
       "    </tr>\n",
       "    <tr>\n",
       "      <th>2023-01-17 00:00:00-05:00</th>\n",
       "      <td>237.970001</td>\n",
       "      <td>240.910004</td>\n",
       "      <td>237.089996</td>\n",
       "      <td>240.350006</td>\n",
       "      <td>29831300</td>\n",
       "      <td>0.0</td>\n",
       "      <td>0.0</td>\n",
       "    </tr>\n",
       "    <tr>\n",
       "      <th>2023-01-18 00:00:00-05:00</th>\n",
       "      <td>241.570007</td>\n",
       "      <td>242.380005</td>\n",
       "      <td>235.520004</td>\n",
       "      <td>235.809998</td>\n",
       "      <td>30028700</td>\n",
       "      <td>0.0</td>\n",
       "      <td>0.0</td>\n",
       "    </tr>\n",
       "    <tr>\n",
       "      <th>2023-01-19 00:00:00-05:00</th>\n",
       "      <td>233.779999</td>\n",
       "      <td>235.520004</td>\n",
       "      <td>230.679993</td>\n",
       "      <td>231.929993</td>\n",
       "      <td>28623000</td>\n",
       "      <td>0.0</td>\n",
       "      <td>0.0</td>\n",
       "    </tr>\n",
       "    <tr>\n",
       "      <th>2023-01-20 00:00:00-05:00</th>\n",
       "      <td>234.860001</td>\n",
       "      <td>240.740005</td>\n",
       "      <td>234.509995</td>\n",
       "      <td>240.220001</td>\n",
       "      <td>35323400</td>\n",
       "      <td>0.0</td>\n",
       "      <td>0.0</td>\n",
       "    </tr>\n",
       "  </tbody>\n",
       "</table>\n",
       "<p>9290 rows × 7 columns</p>\n",
       "</div>"
      ],
      "text/plain": [
       "                                 Open        High         Low       Close  \\\n",
       "Date                                                                        \n",
       "1986-03-13 00:00:00-05:00    0.055380    0.063524    0.055380    0.060809   \n",
       "1986-03-14 00:00:00-05:00    0.060809    0.064067    0.060809    0.062980   \n",
       "1986-03-17 00:00:00-05:00    0.062980    0.064609    0.062980    0.064067   \n",
       "1986-03-18 00:00:00-05:00    0.064067    0.064610    0.061894    0.062437   \n",
       "1986-03-19 00:00:00-05:00    0.062437    0.062980    0.060809    0.061351   \n",
       "...                               ...         ...         ...         ...   \n",
       "2023-01-13 00:00:00-05:00  237.000000  239.369995  234.919998  239.229996   \n",
       "2023-01-17 00:00:00-05:00  237.970001  240.910004  237.089996  240.350006   \n",
       "2023-01-18 00:00:00-05:00  241.570007  242.380005  235.520004  235.809998   \n",
       "2023-01-19 00:00:00-05:00  233.779999  235.520004  230.679993  231.929993   \n",
       "2023-01-20 00:00:00-05:00  234.860001  240.740005  234.509995  240.220001   \n",
       "\n",
       "                               Volume  Dividends  Stock Splits  \n",
       "Date                                                            \n",
       "1986-03-13 00:00:00-05:00  1031788800        0.0           0.0  \n",
       "1986-03-14 00:00:00-05:00   308160000        0.0           0.0  \n",
       "1986-03-17 00:00:00-05:00   133171200        0.0           0.0  \n",
       "1986-03-18 00:00:00-05:00    67766400        0.0           0.0  \n",
       "1986-03-19 00:00:00-05:00    47894400        0.0           0.0  \n",
       "...                               ...        ...           ...  \n",
       "2023-01-13 00:00:00-05:00    21317700        0.0           0.0  \n",
       "2023-01-17 00:00:00-05:00    29831300        0.0           0.0  \n",
       "2023-01-18 00:00:00-05:00    30028700        0.0           0.0  \n",
       "2023-01-19 00:00:00-05:00    28623000        0.0           0.0  \n",
       "2023-01-20 00:00:00-05:00    35323400        0.0           0.0  \n",
       "\n",
       "[9290 rows x 7 columns]"
      ]
     },
     "execution_count": 10,
     "metadata": {},
     "output_type": "execute_result"
    }
   ],
   "source": [
    "msft_data = msft.history(\"max\")\n",
    "msft_data"
   ]
  },
  {
   "cell_type": "markdown",
   "id": "d1f22c9d-e1fc-48dd-b1a8-b337cf7e86f6",
   "metadata": {},
   "source": [
    "That looks very nice, it shows the date and the prices...lots of prices.\n",
    "\n",
    "Stock data is usually presented in this format. For the data it shows the Opening price, Highest price, Lowest price, the Closing price, and some other information (don't worry about these yet).\n",
    "\n",
    "The `msft_data` object is something called a dataframe, it is like an excel spreadsheet.\n",
    "\n",
    "## Inspecting the data\n",
    "\n",
    "Before we start creating graphs it is useful to know how to inspect the data in different ways.\n",
    "\n",
    "You can get the first and last row using `.iloc` and the row number (remember computers start counting at 0).\n",
    "\n",
    "### First row"
   ]
  },
  {
   "cell_type": "code",
   "execution_count": 16,
   "id": "aa212347-94e5-46b9-8b8e-d1fba1490489",
   "metadata": {},
   "outputs": [
    {
     "data": {
      "text/plain": [
       "Open            5.537955e-02\n",
       "High            6.352368e-02\n",
       "Low             5.537955e-02\n",
       "Close           6.080855e-02\n",
       "Volume          1.031789e+09\n",
       "Dividends       0.000000e+00\n",
       "Stock Splits    0.000000e+00\n",
       "Name: 1986-03-13 00:00:00-05:00, dtype: float64"
      ]
     },
     "execution_count": 16,
     "metadata": {},
     "output_type": "execute_result"
    }
   ],
   "source": [
    "msft_data.iloc[0]"
   ]
  },
  {
   "cell_type": "markdown",
   "id": "68018e44-9773-4277-9a15-9b52b44993f1",
   "metadata": {},
   "source": [
    "### Last row\n",
    "\n",
    "You can cheat to get the last row and use `-1`."
   ]
  },
  {
   "cell_type": "code",
   "execution_count": 17,
   "id": "ac3f1fd6-a2b7-4b1e-aeef-1b1b59cb01e4",
   "metadata": {},
   "outputs": [
    {
     "data": {
      "text/plain": [
       "Open            2.348600e+02\n",
       "High            2.407400e+02\n",
       "Low             2.345100e+02\n",
       "Close           2.402200e+02\n",
       "Volume          3.532340e+07\n",
       "Dividends       0.000000e+00\n",
       "Stock Splits    0.000000e+00\n",
       "Name: 2023-01-20 00:00:00-05:00, dtype: float64"
      ]
     },
     "execution_count": 17,
     "metadata": {},
     "output_type": "execute_result"
    }
   ],
   "source": [
    "msft_data.iloc[-1]"
   ]
  },
  {
   "cell_type": "markdown",
   "id": "64780664-555b-4153-a868-d151df99a2e4",
   "metadata": {},
   "source": [
    "### Excersices\n",
    "\n",
    "* How could you get the number of rows in the data frame? *(hint: Python's `len()` function may help)*\n",
    "* How would you get the last row without using `-1`?\n",
    "* How would you get the middle row?"
   ]
  },
  {
   "cell_type": "code",
   "execution_count": 11,
   "id": "1b9b4505-b72b-4732-aad5-1fbfedd02bb2",
   "metadata": {},
   "outputs": [
    {
     "data": {
      "text/plain": [
       "<AxesSubplot: xlabel='Date'>"
      ]
     },
     "execution_count": 11,
     "metadata": {},
     "output_type": "execute_result"
    },
    {
     "data": {
      "image/png": "[encoded data removed]",
      "text/plain": [
       "<Figure size 640x480 with 1 Axes>"
      ]
     },
     "metadata": {},
     "output_type": "display_data"
    }
   ],
   "source": [
    "msft_data.plot()"
   ]
  },
  {
   "cell_type": "code",
   "execution_count": null,
   "id": "1471d334-d3d9-4095-bf77-e1815f3c9b45",
   "metadata": {},
   "outputs": [],
   "source": []
  }
 ],
 "metadata": {
  "kernelspec": {
   "display_name": "Python 3 (ipykernel)",
   "language": "python",
   "name": "python3"
  },
  "language_info": {
   "codemirror_mode": {
    "name": "ipython",
    "version": 3
   },
   "file_extension": ".py",
   "mimetype": "text/x-python",
   "name": "python",
   "nbconvert_exporter": "python",
   "pygments_lexer": "ipython3",
   "version": "3.8.16"
  }
 },
 "nbformat": 4,
 "nbformat_minor": 5
}
